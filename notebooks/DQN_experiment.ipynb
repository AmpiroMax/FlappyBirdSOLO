{
 "cells": [
  {
   "cell_type": "code",
   "execution_count": 1,
   "metadata": {},
   "outputs": [],
   "source": [
    "%load_ext autoreload\n",
    "%autoreload 2\n",
    "\n",
    "import os\n",
    "os.environ[\"DATA_PATH\"] = \"../assets/\""
   ]
  },
  {
   "cell_type": "code",
   "execution_count": 2,
   "metadata": {},
   "outputs": [
    {
     "name": "stdout",
     "output_type": "stream",
     "text": [
      "pygame 2.4.0 (SDL 2.26.4, Python 3.10.7)\n",
      "Hello from the pygame community. https://www.pygame.org/contribute.html\n"
     ]
    }
   ],
   "source": [
    "import torch\n",
    "import torch.optim as optim\n",
    "\n",
    "from tqdm.auto import tqdm\n",
    "\n",
    "from src.game.wrapped_flappy_bird import GameState\n",
    "from src.models.DoubleDQN import QualityEstimator, policy\n",
    "from src.data.replay_memory import ReplayMemory\n",
    "from src.pipelines.utils import get_state\n",
    "from src.pipelines.train import optimize_model\n",
    "\n",
    "from torch.utils.tensorboard import SummaryWriter"
   ]
  },
  {
   "cell_type": "code",
   "execution_count": 3,
   "metadata": {},
   "outputs": [],
   "source": [
    "DEVICE = \"cuda\" if torch.cuda.is_available() else \"cpu\"\n",
    "writer = SummaryWriter()"
   ]
  },
  {
   "cell_type": "code",
   "execution_count": 4,
   "metadata": {},
   "outputs": [],
   "source": [
    "config = {\n",
    "    \"sessions_num\": 1000,\n",
    "    \"gamma\": 0.99,\n",
    "    \"lr\": 1e-2,\n",
    "    \"lr_decay\": 0.99,\n",
    "    \"state_dim\": 4,\n",
    "    \"action_dim\": 2,\n",
    "    \"hid_dim\": [64, 256, 256, 64],\n",
    "    \"eps_init\": 0.5,\n",
    "    \"eps_last\": 1e-5,\n",
    "    \"eps_max_iters\": 1000,  \n",
    "    \"temperature\": 1,\n",
    "    \"batch_size\": 500,\n",
    "    \"grad_clip\": 50,\n",
    "    \"memory_size\": 10000,\n",
    "    \"model_load_path\": None, #\"../models_backup/\",\n",
    "    \"model_version\": \"_v20\",\n",
    "    \"model_save_path\": \"../models/\",\n",
    "    \"model_swap_time\": 10,\n",
    "    \"max_session_score\": 150,\n",
    "    \"player_flap_acc\": -4,\n",
    "    \"reward_treshold\": -90\n",
    "}\n",
    "\n",
    "MODEL_SAVE_PATH = config[\"model_save_path\"]\n",
    "MEMORY_SIZE = config[\"memory_size\"]\n",
    "GRAD_CLIP = config[\"grad_clip\"]\n",
    "BATCH_SIZE = config[\"batch_size\"]\n",
    "LR = config[\"lr\"]\n",
    "LR_DECAY = config[\"lr_decay\"]\n",
    "GAMMA = config[\"gamma\"]\n",
    "EPS_INIT = config[\"eps_init\"]\n",
    "EPS_LAST = config[\"eps_last\"]\n",
    "EPS_MAX_ITERS = config[\"eps_max_iters\"]\n",
    "TEMP = config[\"temperature\"]\n",
    "SESSIONS_NUM = config[\"sessions_num\"]\n",
    "MODEL_SWAP_TIME = config[\"model_swap_time\"]\n",
    "MAX_SESSION_SCORE = config[\"max_session_score\"]\n",
    "PLAYER_FLAP_ACC = config[\"player_flap_acc\"]\n",
    "REWARD_TRESHOLD = config[\"reward_treshold\"]"
   ]
  },
  {
   "cell_type": "code",
   "execution_count": 5,
   "metadata": {},
   "outputs": [],
   "source": [
    "action_terminal = GameState()\n",
    "curr_flap_acc = PLAYER_FLAP_ACC\n",
    "action_terminal.playerFlapAcc = curr_flap_acc\n",
    "\n",
    "model_qa = QualityEstimator(\n",
    "    config[\"state_dim\"],\n",
    "    config[\"action_dim\"],\n",
    "    config[\"hid_dim\"]\n",
    ").to(DEVICE)\n",
    "\n",
    "model_qb = QualityEstimator(\n",
    "    config[\"state_dim\"],\n",
    "    config[\"action_dim\"],\n",
    "    config[\"hid_dim\"]\n",
    ").to(DEVICE)\n",
    "\n",
    "if config[\"model_load_path\"] is not None:\n",
    "    model_qa = torch.load(config[\"model_load_path\"]+\"model_qa\"+config[\"model_version\"]).to(DEVICE)\n",
    "    model_qb = torch.load(config[\"model_load_path\"]+\"model_qb\"+config[\"model_version\"]).to(DEVICE)\n",
    "\n",
    "optimizer_qa = optim.Adam(model_qa.parameters(), lr=LR)\n",
    "optimizer_qb = optim.Adam(model_qb.parameters(), lr=LR)\n",
    "\n",
    "scheduler_qa = torch.optim.lr_scheduler.LambdaLR(optimizer_qa, lr_lambda=lambda epoch: LR_DECAY ** epoch)\n",
    "scheduler_qb = torch.optim.lr_scheduler.LambdaLR(optimizer_qb, lr_lambda=lambda epoch: LR_DECAY ** epoch)"
   ]
  },
  {
   "cell_type": "code",
   "execution_count": 6,
   "metadata": {},
   "outputs": [
    {
     "data": {
      "application/vnd.jupyter.widget-view+json": {
       "model_id": "38f7ffaad8a94514b5cbd4c73cabe8d7",
       "version_major": 2,
       "version_minor": 0
      },
      "text/plain": [
       "  0%|          | 0/1000 [00:00<?, ?it/s]"
      ]
     },
     "metadata": {},
     "output_type": "display_data"
    },
    {
     "name": "stderr",
     "output_type": "stream",
     "text": [
      "c:\\Max\\Proga\\python_venv\\.venv\\lib\\site-packages\\torch\\optim\\lr_scheduler.py:131: UserWarning: Detected call of `lr_scheduler.step()` before `optimizer.step()`. In PyTorch 1.1.0 and later, you should call them in the opposite order: `optimizer.step()` before `lr_scheduler.step()`.  Failure to do this will result in PyTorch skipping the first value of the learning rate schedule. See more details at https://pytorch.org/docs/stable/optim.html#how-to-adjust-learning-rate\n",
      "  warnings.warn(\"Detected call of `lr_scheduler.step()` before `optimizer.step()`. \"\n"
     ]
    },
    {
     "ename": "KeyboardInterrupt",
     "evalue": "",
     "output_type": "error",
     "traceback": [
      "\u001b[1;31m---------------------------------------------------------------------------\u001b[0m",
      "\u001b[1;31mKeyboardInterrupt\u001b[0m                         Traceback (most recent call last)",
      "Cell \u001b[1;32mIn[6], line 34\u001b[0m\n\u001b[0;32m     31\u001b[0m     memory\u001b[39m.\u001b[39mpush(state, action, next_state, reward)\n\u001b[0;32m     32\u001b[0m state \u001b[39m=\u001b[39m next_state\n\u001b[1;32m---> 34\u001b[0m optimize_model(model_qa, model_qb, memory, optimizer_qa, BATCH_SIZE, GAMMA, GRAD_CLIP)\n\u001b[0;32m     35\u001b[0m scheduler_qa\u001b[39m.\u001b[39mstep()\n\u001b[0;32m     36\u001b[0m eps_update_iter_a \u001b[39m+\u001b[39m\u001b[39m=\u001b[39m \u001b[39m1\u001b[39m\n",
      "File \u001b[1;32mc:\\max\\proga\\grishin_ml\\flappybirdsolo\\src\\pipelines\\train.py:50\u001b[0m, in \u001b[0;36moptimize_model\u001b[1;34m(model, target_model, memory, optimizer, batch_size, gamma, grad_clip)\u001b[0m\n\u001b[0;32m     48\u001b[0m loss\u001b[39m.\u001b[39mbackward()\n\u001b[0;32m     49\u001b[0m torch\u001b[39m.\u001b[39mnn\u001b[39m.\u001b[39mutils\u001b[39m.\u001b[39mclip_grad_value_(model\u001b[39m.\u001b[39mparameters(), grad_clip)\n\u001b[1;32m---> 50\u001b[0m optimizer\u001b[39m.\u001b[39;49mstep()\n",
      "File \u001b[1;32mc:\\Max\\Proga\\python_venv\\.venv\\lib\\site-packages\\torch\\optim\\lr_scheduler.py:65\u001b[0m, in \u001b[0;36m_LRScheduler.__init__.<locals>.with_counter.<locals>.wrapper\u001b[1;34m(*args, **kwargs)\u001b[0m\n\u001b[0;32m     63\u001b[0m instance\u001b[39m.\u001b[39m_step_count \u001b[39m+\u001b[39m\u001b[39m=\u001b[39m \u001b[39m1\u001b[39m\n\u001b[0;32m     64\u001b[0m wrapped \u001b[39m=\u001b[39m func\u001b[39m.\u001b[39m\u001b[39m__get__\u001b[39m(instance, \u001b[39mcls\u001b[39m)\n\u001b[1;32m---> 65\u001b[0m \u001b[39mreturn\u001b[39;00m wrapped(\u001b[39m*\u001b[39margs, \u001b[39m*\u001b[39m\u001b[39m*\u001b[39mkwargs)\n",
      "File \u001b[1;32mc:\\Max\\Proga\\python_venv\\.venv\\lib\\site-packages\\torch\\optim\\optimizer.py:113\u001b[0m, in \u001b[0;36mOptimizer._hook_for_profile.<locals>.profile_hook_step.<locals>.wrapper\u001b[1;34m(*args, **kwargs)\u001b[0m\n\u001b[0;32m    111\u001b[0m profile_name \u001b[39m=\u001b[39m \u001b[39m\"\u001b[39m\u001b[39mOptimizer.step#\u001b[39m\u001b[39m{}\u001b[39;00m\u001b[39m.step\u001b[39m\u001b[39m\"\u001b[39m\u001b[39m.\u001b[39mformat(obj\u001b[39m.\u001b[39m\u001b[39m__class__\u001b[39m\u001b[39m.\u001b[39m\u001b[39m__name__\u001b[39m)\n\u001b[0;32m    112\u001b[0m \u001b[39mwith\u001b[39;00m torch\u001b[39m.\u001b[39mautograd\u001b[39m.\u001b[39mprofiler\u001b[39m.\u001b[39mrecord_function(profile_name):\n\u001b[1;32m--> 113\u001b[0m     \u001b[39mreturn\u001b[39;00m func(\u001b[39m*\u001b[39margs, \u001b[39m*\u001b[39m\u001b[39m*\u001b[39mkwargs)\n",
      "File \u001b[1;32mc:\\Max\\Proga\\python_venv\\.venv\\lib\\site-packages\\torch\\autograd\\grad_mode.py:27\u001b[0m, in \u001b[0;36m_DecoratorContextManager.__call__.<locals>.decorate_context\u001b[1;34m(*args, **kwargs)\u001b[0m\n\u001b[0;32m     24\u001b[0m \u001b[39m@functools\u001b[39m\u001b[39m.\u001b[39mwraps(func)\n\u001b[0;32m     25\u001b[0m \u001b[39mdef\u001b[39;00m \u001b[39mdecorate_context\u001b[39m(\u001b[39m*\u001b[39margs, \u001b[39m*\u001b[39m\u001b[39m*\u001b[39mkwargs):\n\u001b[0;32m     26\u001b[0m     \u001b[39mwith\u001b[39;00m \u001b[39mself\u001b[39m\u001b[39m.\u001b[39mclone():\n\u001b[1;32m---> 27\u001b[0m         \u001b[39mreturn\u001b[39;00m func(\u001b[39m*\u001b[39margs, \u001b[39m*\u001b[39m\u001b[39m*\u001b[39mkwargs)\n",
      "File \u001b[1;32mc:\\Max\\Proga\\python_venv\\.venv\\lib\\site-packages\\torch\\optim\\adam.py:157\u001b[0m, in \u001b[0;36mAdam.step\u001b[1;34m(self, closure)\u001b[0m\n\u001b[0;32m    153\u001b[0m                 max_exp_avg_sqs\u001b[39m.\u001b[39mappend(state[\u001b[39m'\u001b[39m\u001b[39mmax_exp_avg_sq\u001b[39m\u001b[39m'\u001b[39m])\n\u001b[0;32m    155\u001b[0m             state_steps\u001b[39m.\u001b[39mappend(state[\u001b[39m'\u001b[39m\u001b[39mstep\u001b[39m\u001b[39m'\u001b[39m])\n\u001b[1;32m--> 157\u001b[0m     adam(params_with_grad,\n\u001b[0;32m    158\u001b[0m          grads,\n\u001b[0;32m    159\u001b[0m          exp_avgs,\n\u001b[0;32m    160\u001b[0m          exp_avg_sqs,\n\u001b[0;32m    161\u001b[0m          max_exp_avg_sqs,\n\u001b[0;32m    162\u001b[0m          state_steps,\n\u001b[0;32m    163\u001b[0m          amsgrad\u001b[39m=\u001b[39;49mgroup[\u001b[39m'\u001b[39;49m\u001b[39mamsgrad\u001b[39;49m\u001b[39m'\u001b[39;49m],\n\u001b[0;32m    164\u001b[0m          beta1\u001b[39m=\u001b[39;49mbeta1,\n\u001b[0;32m    165\u001b[0m          beta2\u001b[39m=\u001b[39;49mbeta2,\n\u001b[0;32m    166\u001b[0m          lr\u001b[39m=\u001b[39;49mgroup[\u001b[39m'\u001b[39;49m\u001b[39mlr\u001b[39;49m\u001b[39m'\u001b[39;49m],\n\u001b[0;32m    167\u001b[0m          weight_decay\u001b[39m=\u001b[39;49mgroup[\u001b[39m'\u001b[39;49m\u001b[39mweight_decay\u001b[39;49m\u001b[39m'\u001b[39;49m],\n\u001b[0;32m    168\u001b[0m          eps\u001b[39m=\u001b[39;49mgroup[\u001b[39m'\u001b[39;49m\u001b[39meps\u001b[39;49m\u001b[39m'\u001b[39;49m],\n\u001b[0;32m    169\u001b[0m          maximize\u001b[39m=\u001b[39;49mgroup[\u001b[39m'\u001b[39;49m\u001b[39mmaximize\u001b[39;49m\u001b[39m'\u001b[39;49m],\n\u001b[0;32m    170\u001b[0m          foreach\u001b[39m=\u001b[39;49mgroup[\u001b[39m'\u001b[39;49m\u001b[39mforeach\u001b[39;49m\u001b[39m'\u001b[39;49m],\n\u001b[0;32m    171\u001b[0m          capturable\u001b[39m=\u001b[39;49mgroup[\u001b[39m'\u001b[39;49m\u001b[39mcapturable\u001b[39;49m\u001b[39m'\u001b[39;49m])\n\u001b[0;32m    173\u001b[0m \u001b[39mreturn\u001b[39;00m loss\n",
      "File \u001b[1;32mc:\\Max\\Proga\\python_venv\\.venv\\lib\\site-packages\\torch\\optim\\adam.py:213\u001b[0m, in \u001b[0;36madam\u001b[1;34m(params, grads, exp_avgs, exp_avg_sqs, max_exp_avg_sqs, state_steps, foreach, capturable, amsgrad, beta1, beta2, lr, weight_decay, eps, maximize)\u001b[0m\n\u001b[0;32m    210\u001b[0m \u001b[39melse\u001b[39;00m:\n\u001b[0;32m    211\u001b[0m     func \u001b[39m=\u001b[39m _single_tensor_adam\n\u001b[1;32m--> 213\u001b[0m func(params,\n\u001b[0;32m    214\u001b[0m      grads,\n\u001b[0;32m    215\u001b[0m      exp_avgs,\n\u001b[0;32m    216\u001b[0m      exp_avg_sqs,\n\u001b[0;32m    217\u001b[0m      max_exp_avg_sqs,\n\u001b[0;32m    218\u001b[0m      state_steps,\n\u001b[0;32m    219\u001b[0m      amsgrad\u001b[39m=\u001b[39;49mamsgrad,\n\u001b[0;32m    220\u001b[0m      beta1\u001b[39m=\u001b[39;49mbeta1,\n\u001b[0;32m    221\u001b[0m      beta2\u001b[39m=\u001b[39;49mbeta2,\n\u001b[0;32m    222\u001b[0m      lr\u001b[39m=\u001b[39;49mlr,\n\u001b[0;32m    223\u001b[0m      weight_decay\u001b[39m=\u001b[39;49mweight_decay,\n\u001b[0;32m    224\u001b[0m      eps\u001b[39m=\u001b[39;49meps,\n\u001b[0;32m    225\u001b[0m      maximize\u001b[39m=\u001b[39;49mmaximize,\n\u001b[0;32m    226\u001b[0m      capturable\u001b[39m=\u001b[39;49mcapturable)\n",
      "File \u001b[1;32mc:\\Max\\Proga\\python_venv\\.venv\\lib\\site-packages\\torch\\optim\\adam.py:305\u001b[0m, in \u001b[0;36m_single_tensor_adam\u001b[1;34m(params, grads, exp_avgs, exp_avg_sqs, max_exp_avg_sqs, state_steps, amsgrad, beta1, beta2, lr, weight_decay, eps, maximize, capturable)\u001b[0m\n\u001b[0;32m    303\u001b[0m     denom \u001b[39m=\u001b[39m (max_exp_avg_sqs[i]\u001b[39m.\u001b[39msqrt() \u001b[39m/\u001b[39m bias_correction2_sqrt)\u001b[39m.\u001b[39madd_(eps)\n\u001b[0;32m    304\u001b[0m \u001b[39melse\u001b[39;00m:\n\u001b[1;32m--> 305\u001b[0m     denom \u001b[39m=\u001b[39m (exp_avg_sq\u001b[39m.\u001b[39;49msqrt() \u001b[39m/\u001b[39;49m bias_correction2_sqrt)\u001b[39m.\u001b[39;49madd_(eps)\n\u001b[0;32m    307\u001b[0m param\u001b[39m.\u001b[39maddcdiv_(exp_avg, denom, value\u001b[39m=\u001b[39m\u001b[39m-\u001b[39mstep_size)\n",
      "\u001b[1;31mKeyboardInterrupt\u001b[0m: "
     ]
    }
   ],
   "source": [
    "total_rewards = []\n",
    "\n",
    "eps_update_iter_a = 0\n",
    "eps_update_iter_b = 0\n",
    "memory = ReplayMemory(MEMORY_SIZE)\n",
    "\n",
    "for session_idx in tqdm(range(SESSIONS_NUM)):\n",
    "    \n",
    "    # Initialize new session\n",
    "    has_failed = False\n",
    "    max_score = 0\n",
    "    input_action = 0\n",
    "    total_reward = 0.0\n",
    "    action_terminal.playerFlapAcc = curr_flap_acc\n",
    "       \n",
    "    state = get_state(action_terminal)\n",
    "    \n",
    "    # Session run\n",
    "    while not has_failed:\n",
    "        if session_idx % (2 * MODEL_SWAP_TIME) < MODEL_SWAP_TIME:\n",
    "            action, _ = policy(\n",
    "                model_qa,\n",
    "                state,\n",
    "                epsilon=max((EPS_INIT - EPS_INIT / EPS_MAX_ITERS * eps_update_iter_a), EPS_LAST)\n",
    "            )            \n",
    "            _, reward, has_failed = action_terminal.frame_step(action)\n",
    "            reward = torch.tensor([reward], device=DEVICE)\n",
    "            next_state = get_state(action_terminal)\n",
    "            \n",
    "            if total_reward > REWARD_TRESHOLD:\n",
    "                memory.push(state, action, next_state, reward)\n",
    "            state = next_state\n",
    "\n",
    "            optimize_model(model_qa, model_qb, memory, optimizer_qa, BATCH_SIZE, GAMMA, GRAD_CLIP)\n",
    "            scheduler_qa.step()\n",
    "            eps_update_iter_a += 1\n",
    "        else:\n",
    "            action, _ = policy(\n",
    "                model_qb,\n",
    "                state,\n",
    "                epsilon=max((EPS_INIT - EPS_INIT / EPS_MAX_ITERS * eps_update_iter_b), EPS_LAST)\n",
    "            )\n",
    "            _, reward, has_failed = action_terminal.frame_step(action)\n",
    "            reward = torch.tensor([reward], device=DEVICE)\n",
    "            next_state = get_state(action_terminal)\n",
    "            \n",
    "            if total_reward > REWARD_TRESHOLD:\n",
    "                memory.push(state, action, next_state, reward)\n",
    "            state = next_state\n",
    "\n",
    "            optimize_model(model_qb, model_qa, memory, optimizer_qb, BATCH_SIZE, GAMMA, GRAD_CLIP)\n",
    "            scheduler_qb.step()\n",
    "            eps_update_iter_b += 1\n",
    "\n",
    "        total_reward += reward\n",
    "        max_score = max(max_score, action_terminal.score)\n",
    "        if max_score >= MAX_SESSION_SCORE:\n",
    "            break\n",
    "    \n",
    "    # Post session updates\n",
    "    if (session_idx + 1) % 200 == 0:\n",
    "        torch.save(model_qa, MODEL_SAVE_PATH+\"model_qa_bn\")\n",
    "        torch.save(model_qb, MODEL_SAVE_PATH+\"model_qb_bn\")\n",
    "\n",
    "    if (session_idx + 1) % 500 == 0 and curr_flap_acc > -9:\n",
    "        curr_flap_acc -= 1\n",
    "        action_terminal.playerFlapAcc = curr_flap_acc\n",
    "        eps_update_iter_a = 0\n",
    "        eps_update_iter_b = 0   \n",
    "        \n",
    "    total_rewards += [total_reward]    \n",
    "    writer.add_scalar(f\"Total reward {config=}\", total_reward, session_idx)\n",
    "    writer.add_scalar(f\"Max score {config=}\", max_score, session_idx)\n",
    "    "
   ]
  }
 ],
 "metadata": {
  "kernelspec": {
   "display_name": ".venv",
   "language": "python",
   "name": "python3"
  },
  "language_info": {
   "codemirror_mode": {
    "name": "ipython",
    "version": 3
   },
   "file_extension": ".py",
   "mimetype": "text/x-python",
   "name": "python",
   "nbconvert_exporter": "python",
   "pygments_lexer": "ipython3",
   "version": "3.10.7"
  },
  "orig_nbformat": 4
 },
 "nbformat": 4,
 "nbformat_minor": 2
}
